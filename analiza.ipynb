{
 "cells": [
  {
   "cell_type": "markdown",
   "metadata": {},
   "source": [
    "# Analiza podatkov\n",
    "\n",
    "Podatki so zbrani iz spletne strani \"https://en.wikipedia.org/wiki/List_of_days_of_the_year\". \n",
    "\n",
    "Najprej so predstavljeni vsi podatki, zatem pa odgovarjamo na začetna vprašanja.\n",
    "\n",
    "Za ogled podatkov rabiš pognati želena okenca s kodo."
   ]
  },
  {
   "cell_type": "markdown",
   "metadata": {},
   "source": [
    "### Tabela vseh oseb, njihovih nazivov, letnic rojstnega dne in smrti, ter če so ti podani tudi njihove življenjske dobe:\n",
    "če je življenjska doba 404, pomeni da vsaj ena od vrednosti ni bila podana."
   ]
  },
  {
   "cell_type": "code",
   "execution_count": 1,
   "metadata": {},
   "outputs": [
    {
     "data": {
      "text/html": [
       "<div>\n",
       "<style scoped>\n",
       "    .dataframe tbody tr th:only-of-type {\n",
       "        vertical-align: middle;\n",
       "    }\n",
       "\n",
       "    .dataframe tbody tr th {\n",
       "        vertical-align: top;\n",
       "    }\n",
       "\n",
       "    .dataframe thead th {\n",
       "        text-align: right;\n",
       "    }\n",
       "</style>\n",
       "<table border=\"1\" class=\"dataframe\">\n",
       "  <thead>\n",
       "    <tr style=\"text-align: right;\">\n",
       "      <th></th>\n",
       "      <th>Datum</th>\n",
       "      <th>Ime</th>\n",
       "      <th>Naziv</th>\n",
       "      <th>Rojstvo</th>\n",
       "      <th>Smrt</th>\n",
       "      <th>Življenjska doba</th>\n",
       "    </tr>\n",
       "  </thead>\n",
       "  <tbody>\n",
       "    <tr>\n",
       "      <th>0</th>\n",
       "      <td>1.Januar</td>\n",
       "      <td>Lucius Aelius</td>\n",
       "      <td>adopted son and intended successor of Hadrian</td>\n",
       "      <td>101.0</td>\n",
       "      <td>138.0</td>\n",
       "      <td>37</td>\n",
       "    </tr>\n",
       "    <tr>\n",
       "      <th>1</th>\n",
       "      <td>1.Januar</td>\n",
       "      <td>Telemachus</td>\n",
       "      <td>Christian monk and martyr</td>\n",
       "      <td>NaN</td>\n",
       "      <td>404.0</td>\n",
       "      <td>404</td>\n",
       "    </tr>\n",
       "    <tr>\n",
       "      <th>2</th>\n",
       "      <td>1.Januar</td>\n",
       "      <td>Odo I</td>\n",
       "      <td>Frankish king</td>\n",
       "      <td>860.0</td>\n",
       "      <td>898.0</td>\n",
       "      <td>38</td>\n",
       "    </tr>\n",
       "    <tr>\n",
       "      <th>3</th>\n",
       "      <td>1.Januar</td>\n",
       "      <td>Ramiro II</td>\n",
       "      <td>king of León and Galicia</td>\n",
       "      <td>NaN</td>\n",
       "      <td>951.0</td>\n",
       "      <td>404</td>\n",
       "    </tr>\n",
       "    <tr>\n",
       "      <th>4</th>\n",
       "      <td>1.Januar</td>\n",
       "      <td>William of Volpiano</td>\n",
       "      <td>Italian abbot</td>\n",
       "      <td>962.0</td>\n",
       "      <td>1031.0</td>\n",
       "      <td>69</td>\n",
       "    </tr>\n",
       "    <tr>\n",
       "      <th>...</th>\n",
       "      <td>...</td>\n",
       "      <td>...</td>\n",
       "      <td>...</td>\n",
       "      <td>...</td>\n",
       "      <td>...</td>\n",
       "      <td>...</td>\n",
       "    </tr>\n",
       "    <tr>\n",
       "      <th>117917</th>\n",
       "      <td>31.December</td>\n",
       "      <td>J. J. Arcega-Whiteside</td>\n",
       "      <td>Spanish-American football player</td>\n",
       "      <td>1996.0</td>\n",
       "      <td>NaN</td>\n",
       "      <td>404</td>\n",
       "    </tr>\n",
       "    <tr>\n",
       "      <th>117918</th>\n",
       "      <td>31.December</td>\n",
       "      <td>Cameron Carter-Vickers</td>\n",
       "      <td>English-American soccer player</td>\n",
       "      <td>1997.0</td>\n",
       "      <td>NaN</td>\n",
       "      <td>404</td>\n",
       "    </tr>\n",
       "    <tr>\n",
       "      <th>117919</th>\n",
       "      <td>31.December</td>\n",
       "      <td>Alycia Parks</td>\n",
       "      <td>American tennis player</td>\n",
       "      <td>2000.0</td>\n",
       "      <td>NaN</td>\n",
       "      <td>404</td>\n",
       "    </tr>\n",
       "    <tr>\n",
       "      <th>117920</th>\n",
       "      <td>31.December</td>\n",
       "      <td>Katie Volynets</td>\n",
       "      <td>American tennis player</td>\n",
       "      <td>2001.0</td>\n",
       "      <td>NaN</td>\n",
       "      <td>404</td>\n",
       "    </tr>\n",
       "    <tr>\n",
       "      <th>117921</th>\n",
       "      <td>31.December</td>\n",
       "      <td>Joe Scally</td>\n",
       "      <td>American soccer player</td>\n",
       "      <td>2002.0</td>\n",
       "      <td>NaN</td>\n",
       "      <td>404</td>\n",
       "    </tr>\n",
       "  </tbody>\n",
       "</table>\n",
       "<p>117922 rows × 6 columns</p>\n",
       "</div>"
      ],
      "text/plain": [
       "              Datum                     Ime  \\\n",
       "0          1.Januar           Lucius Aelius   \n",
       "1          1.Januar              Telemachus   \n",
       "2          1.Januar                   Odo I   \n",
       "3          1.Januar               Ramiro II   \n",
       "4          1.Januar     William of Volpiano   \n",
       "...             ...                     ...   \n",
       "117917  31.December  J. J. Arcega-Whiteside   \n",
       "117918  31.December  Cameron Carter-Vickers   \n",
       "117919  31.December            Alycia Parks   \n",
       "117920  31.December          Katie Volynets   \n",
       "117921  31.December              Joe Scally   \n",
       "\n",
       "                                                Naziv  Rojstvo    Smrt  \\\n",
       "0       adopted son and intended successor of Hadrian    101.0   138.0   \n",
       "1                           Christian monk and martyr      NaN   404.0   \n",
       "2                                       Frankish king    860.0   898.0   \n",
       "3                            king of León and Galicia      NaN   951.0   \n",
       "4                                       Italian abbot    962.0  1031.0   \n",
       "...                                               ...      ...     ...   \n",
       "117917               Spanish-American football player   1996.0     NaN   \n",
       "117918                 English-American soccer player   1997.0     NaN   \n",
       "117919                         American tennis player   2000.0     NaN   \n",
       "117920                         American tennis player   2001.0     NaN   \n",
       "117921                         American soccer player   2002.0     NaN   \n",
       "\n",
       "        Življenjska doba  \n",
       "0                     37  \n",
       "1                    404  \n",
       "2                     38  \n",
       "3                    404  \n",
       "4                     69  \n",
       "...                  ...  \n",
       "117917               404  \n",
       "117918               404  \n",
       "117919               404  \n",
       "117920               404  \n",
       "117921               404  \n",
       "\n",
       "[117922 rows x 6 columns]"
      ]
     },
     "execution_count": 1,
     "metadata": {},
     "output_type": "execute_result"
    }
   ],
   "source": [
    "import pandas as pd\n",
    "import matplotlib.pyplot as plt\n",
    "plt.style.use(\"dark_background\")\n",
    "\n",
    "pd.set_option(\"display.max_rows\", 10)\n",
    "OSEBE = pd.read_csv(\"dat_oseb.csv\")\n",
    "OSEBE"
   ]
  },
  {
   "cell_type": "markdown",
   "metadata": {},
   "source": [
    "### Tabela vseh bitk ali vojn, ter datum kdaj so omenjene:"
   ]
  },
  {
   "cell_type": "code",
   "execution_count": 2,
   "metadata": {},
   "outputs": [
    {
     "data": {
      "text/html": [
       "<div>\n",
       "<style scoped>\n",
       "    .dataframe tbody tr th:only-of-type {\n",
       "        vertical-align: middle;\n",
       "    }\n",
       "\n",
       "    .dataframe tbody tr th {\n",
       "        vertical-align: top;\n",
       "    }\n",
       "\n",
       "    .dataframe thead th {\n",
       "        text-align: right;\n",
       "    }\n",
       "</style>\n",
       "<table border=\"1\" class=\"dataframe\">\n",
       "  <thead>\n",
       "    <tr style=\"text-align: right;\">\n",
       "      <th></th>\n",
       "      <th>Ime bitke ali vojne</th>\n",
       "      <th>Datum</th>\n",
       "    </tr>\n",
       "  </thead>\n",
       "  <tbody>\n",
       "    <tr>\n",
       "      <th>0</th>\n",
       "      <td>American Revolutionary War</td>\n",
       "      <td>1.Januar</td>\n",
       "    </tr>\n",
       "    <tr>\n",
       "      <th>1</th>\n",
       "      <td>American Civil War</td>\n",
       "      <td>1.Januar</td>\n",
       "    </tr>\n",
       "    <tr>\n",
       "      <th>2</th>\n",
       "      <td>Cristero War</td>\n",
       "      <td>1.Januar</td>\n",
       "    </tr>\n",
       "    <tr>\n",
       "      <th>3</th>\n",
       "      <td>World War II</td>\n",
       "      <td>1.Januar</td>\n",
       "    </tr>\n",
       "    <tr>\n",
       "      <th>4</th>\n",
       "      <td>Cold War</td>\n",
       "      <td>1.Januar</td>\n",
       "    </tr>\n",
       "    <tr>\n",
       "      <th>...</th>\n",
       "      <td>...</td>\n",
       "      <td>...</td>\n",
       "    </tr>\n",
       "    <tr>\n",
       "      <th>3443</th>\n",
       "      <td>Battle of Stones River</td>\n",
       "      <td>31.December</td>\n",
       "    </tr>\n",
       "    <tr>\n",
       "      <th>3444</th>\n",
       "      <td>World War II</td>\n",
       "      <td>31.December</td>\n",
       "    </tr>\n",
       "    <tr>\n",
       "      <th>3445</th>\n",
       "      <td>Cold War</td>\n",
       "      <td>31.December</td>\n",
       "    </tr>\n",
       "    <tr>\n",
       "      <th>3446</th>\n",
       "      <td>Benjamin Ward</td>\n",
       "      <td>31.December</td>\n",
       "    </tr>\n",
       "    <tr>\n",
       "      <th>3447</th>\n",
       "      <td>First Chechen War</td>\n",
       "      <td>31.December</td>\n",
       "    </tr>\n",
       "  </tbody>\n",
       "</table>\n",
       "<p>3448 rows × 2 columns</p>\n",
       "</div>"
      ],
      "text/plain": [
       "             Ime bitke ali vojne        Datum\n",
       "0     American Revolutionary War     1.Januar\n",
       "1             American Civil War     1.Januar\n",
       "2                   Cristero War     1.Januar\n",
       "3                   World War II     1.Januar\n",
       "4                       Cold War     1.Januar\n",
       "...                          ...          ...\n",
       "3443      Battle of Stones River  31.December\n",
       "3444                World War II  31.December\n",
       "3445                    Cold War  31.December\n",
       "3446               Benjamin Ward  31.December\n",
       "3447           First Chechen War  31.December\n",
       "\n",
       "[3448 rows x 2 columns]"
      ]
     },
     "execution_count": 2,
     "metadata": {},
     "output_type": "execute_result"
    }
   ],
   "source": [
    "BITKE = pd.read_csv(\"dat_bitk.csv\")\n",
    "BITKE"
   ]
  },
  {
   "cell_type": "markdown",
   "metadata": {},
   "source": [
    "## Koliko je podatkov za posamezen dan?\n",
    "### Ali je očitno manj podatkov za 29. Februar?\n",
    "\n",
    "Prva tabela prikazuje količino podatkov na posamezen dan razvrščeno po številu rojstev v naraščujočem zaporedju. \n",
    "Druga tabela pa po številu zabeleženih smrti. Na koncu pa je še izločen 29. Februar."
   ]
  },
  {
   "cell_type": "code",
   "execution_count": 3,
   "metadata": {},
   "outputs": [
    {
     "data": {
      "text/html": [
       "<div>\n",
       "<style scoped>\n",
       "    .dataframe tbody tr th:only-of-type {\n",
       "        vertical-align: middle;\n",
       "    }\n",
       "\n",
       "    .dataframe tbody tr th {\n",
       "        vertical-align: top;\n",
       "    }\n",
       "\n",
       "    .dataframe thead th {\n",
       "        text-align: right;\n",
       "    }\n",
       "</style>\n",
       "<table border=\"1\" class=\"dataframe\">\n",
       "  <thead>\n",
       "    <tr style=\"text-align: right;\">\n",
       "      <th></th>\n",
       "      <th>Datum</th>\n",
       "      <th>Št dogodkov</th>\n",
       "      <th>Št bitk ali vojen</th>\n",
       "      <th>Št rojstev</th>\n",
       "      <th>Št smrti</th>\n",
       "    </tr>\n",
       "  </thead>\n",
       "  <tbody>\n",
       "    <tr>\n",
       "      <th>58</th>\n",
       "      <td>28.Februar</td>\n",
       "      <td>26</td>\n",
       "      <td>0</td>\n",
       "      <td>158</td>\n",
       "      <td>35</td>\n",
       "    </tr>\n",
       "    <tr>\n",
       "      <th>310</th>\n",
       "      <td>6.November</td>\n",
       "      <td>22</td>\n",
       "      <td>4</td>\n",
       "      <td>113</td>\n",
       "      <td>49</td>\n",
       "    </tr>\n",
       "    <tr>\n",
       "      <th>131</th>\n",
       "      <td>11.Maj</td>\n",
       "      <td>34</td>\n",
       "      <td>3</td>\n",
       "      <td>102</td>\n",
       "      <td>52</td>\n",
       "    </tr>\n",
       "    <tr>\n",
       "      <th>48</th>\n",
       "      <td>18.Februar</td>\n",
       "      <td>50</td>\n",
       "      <td>11</td>\n",
       "      <td>139</td>\n",
       "      <td>52</td>\n",
       "    </tr>\n",
       "    <tr>\n",
       "      <th>157</th>\n",
       "      <td>6.Junij</td>\n",
       "      <td>38</td>\n",
       "      <td>9</td>\n",
       "      <td>102</td>\n",
       "      <td>53</td>\n",
       "    </tr>\n",
       "    <tr>\n",
       "      <th>...</th>\n",
       "      <td>...</td>\n",
       "      <td>...</td>\n",
       "      <td>...</td>\n",
       "      <td>...</td>\n",
       "      <td>...</td>\n",
       "    </tr>\n",
       "    <tr>\n",
       "      <th>272</th>\n",
       "      <td>29.September</td>\n",
       "      <td>54</td>\n",
       "      <td>11</td>\n",
       "      <td>243</td>\n",
       "      <td>137</td>\n",
       "    </tr>\n",
       "    <tr>\n",
       "      <th>250</th>\n",
       "      <td>7.September</td>\n",
       "      <td>71</td>\n",
       "      <td>12</td>\n",
       "      <td>269</td>\n",
       "      <td>138</td>\n",
       "    </tr>\n",
       "    <tr>\n",
       "      <th>32</th>\n",
       "      <td>2.Februar</td>\n",
       "      <td>51</td>\n",
       "      <td>9</td>\n",
       "      <td>331</td>\n",
       "      <td>153</td>\n",
       "    </tr>\n",
       "    <tr>\n",
       "      <th>63</th>\n",
       "      <td>4.Marc</td>\n",
       "      <td>75</td>\n",
       "      <td>11</td>\n",
       "      <td>432</td>\n",
       "      <td>165</td>\n",
       "    </tr>\n",
       "    <tr>\n",
       "      <th>95</th>\n",
       "      <td>5.April</td>\n",
       "      <td>47</td>\n",
       "      <td>8</td>\n",
       "      <td>551</td>\n",
       "      <td>242</td>\n",
       "    </tr>\n",
       "  </tbody>\n",
       "</table>\n",
       "<p>366 rows × 5 columns</p>\n",
       "</div>"
      ],
      "text/plain": [
       "            Datum  Št dogodkov  Št bitk ali vojen  Št rojstev  Št smrti\n",
       "58     28.Februar           26                  0         158        35\n",
       "310    6.November           22                  4         113        49\n",
       "131        11.Maj           34                  3         102        52\n",
       "48     18.Februar           50                 11         139        52\n",
       "157       6.Junij           38                  9         102        53\n",
       "..            ...          ...                ...         ...       ...\n",
       "272  29.September           54                 11         243       137\n",
       "250   7.September           71                 12         269       138\n",
       "32      2.Februar           51                  9         331       153\n",
       "63         4.Marc           75                 11         432       165\n",
       "95        5.April           47                  8         551       242\n",
       "\n",
       "[366 rows x 5 columns]"
      ]
     },
     "execution_count": 3,
     "metadata": {},
     "output_type": "execute_result"
    }
   ],
   "source": [
    "ST_PODATKOV = pd.read_csv(\"st_podatkov.csv\")\n",
    "ST_PODATKOV.sort_values(by =\"Št smrti\", ascending=True)"
   ]
  },
  {
   "cell_type": "code",
   "execution_count": 4,
   "metadata": {},
   "outputs": [
    {
     "data": {
      "text/html": [
       "<div>\n",
       "<style scoped>\n",
       "    .dataframe tbody tr th:only-of-type {\n",
       "        vertical-align: middle;\n",
       "    }\n",
       "\n",
       "    .dataframe tbody tr th {\n",
       "        vertical-align: top;\n",
       "    }\n",
       "\n",
       "    .dataframe thead th {\n",
       "        text-align: right;\n",
       "    }\n",
       "</style>\n",
       "<table border=\"1\" class=\"dataframe\">\n",
       "  <thead>\n",
       "    <tr style=\"text-align: right;\">\n",
       "      <th></th>\n",
       "      <th>Datum</th>\n",
       "      <th>Št dogodkov</th>\n",
       "      <th>Št bitk ali vojen</th>\n",
       "      <th>Št rojstev</th>\n",
       "      <th>Št smrti</th>\n",
       "    </tr>\n",
       "  </thead>\n",
       "  <tbody>\n",
       "    <tr>\n",
       "      <th>130</th>\n",
       "      <td>10.Maj</td>\n",
       "      <td>54</td>\n",
       "      <td>8</td>\n",
       "      <td>102</td>\n",
       "      <td>61</td>\n",
       "    </tr>\n",
       "    <tr>\n",
       "      <th>157</th>\n",
       "      <td>6.Junij</td>\n",
       "      <td>38</td>\n",
       "      <td>9</td>\n",
       "      <td>102</td>\n",
       "      <td>53</td>\n",
       "    </tr>\n",
       "    <tr>\n",
       "      <th>131</th>\n",
       "      <td>11.Maj</td>\n",
       "      <td>34</td>\n",
       "      <td>3</td>\n",
       "      <td>102</td>\n",
       "      <td>52</td>\n",
       "    </tr>\n",
       "    <tr>\n",
       "      <th>158</th>\n",
       "      <td>7.Junij</td>\n",
       "      <td>51</td>\n",
       "      <td>8</td>\n",
       "      <td>103</td>\n",
       "      <td>69</td>\n",
       "    </tr>\n",
       "    <tr>\n",
       "      <th>129</th>\n",
       "      <td>9.Maj</td>\n",
       "      <td>41</td>\n",
       "      <td>9</td>\n",
       "      <td>112</td>\n",
       "      <td>106</td>\n",
       "    </tr>\n",
       "    <tr>\n",
       "      <th>...</th>\n",
       "      <td>...</td>\n",
       "      <td>...</td>\n",
       "      <td>...</td>\n",
       "      <td>...</td>\n",
       "      <td>...</td>\n",
       "    </tr>\n",
       "    <tr>\n",
       "      <th>63</th>\n",
       "      <td>4.Marc</td>\n",
       "      <td>75</td>\n",
       "      <td>11</td>\n",
       "      <td>432</td>\n",
       "      <td>165</td>\n",
       "    </tr>\n",
       "    <tr>\n",
       "      <th>20</th>\n",
       "      <td>21.Januar</td>\n",
       "      <td>46</td>\n",
       "      <td>6</td>\n",
       "      <td>432</td>\n",
       "      <td>106</td>\n",
       "    </tr>\n",
       "    <tr>\n",
       "      <th>298</th>\n",
       "      <td>25.Oktober</td>\n",
       "      <td>42</td>\n",
       "      <td>8</td>\n",
       "      <td>440</td>\n",
       "      <td>122</td>\n",
       "    </tr>\n",
       "    <tr>\n",
       "      <th>324</th>\n",
       "      <td>20.November</td>\n",
       "      <td>48</td>\n",
       "      <td>11</td>\n",
       "      <td>506</td>\n",
       "      <td>134</td>\n",
       "    </tr>\n",
       "    <tr>\n",
       "      <th>95</th>\n",
       "      <td>5.April</td>\n",
       "      <td>47</td>\n",
       "      <td>8</td>\n",
       "      <td>551</td>\n",
       "      <td>242</td>\n",
       "    </tr>\n",
       "  </tbody>\n",
       "</table>\n",
       "<p>366 rows × 5 columns</p>\n",
       "</div>"
      ],
      "text/plain": [
       "           Datum  Št dogodkov  Št bitk ali vojen  Št rojstev  Št smrti\n",
       "130       10.Maj           54                  8         102        61\n",
       "157      6.Junij           38                  9         102        53\n",
       "131       11.Maj           34                  3         102        52\n",
       "158      7.Junij           51                  8         103        69\n",
       "129        9.Maj           41                  9         112       106\n",
       "..           ...          ...                ...         ...       ...\n",
       "63        4.Marc           75                 11         432       165\n",
       "20     21.Januar           46                  6         432       106\n",
       "298   25.Oktober           42                  8         440       122\n",
       "324  20.November           48                 11         506       134\n",
       "95       5.April           47                  8         551       242\n",
       "\n",
       "[366 rows x 5 columns]"
      ]
     },
     "execution_count": 4,
     "metadata": {},
     "output_type": "execute_result"
    }
   ],
   "source": [
    "ST_PODATKOV.sort_values(by =\"Št rojstev\", ascending=True)"
   ]
  },
  {
   "cell_type": "code",
   "execution_count": 5,
   "metadata": {},
   "outputs": [
    {
     "data": {
      "text/html": [
       "<div>\n",
       "<style scoped>\n",
       "    .dataframe tbody tr th:only-of-type {\n",
       "        vertical-align: middle;\n",
       "    }\n",
       "\n",
       "    .dataframe tbody tr th {\n",
       "        vertical-align: top;\n",
       "    }\n",
       "\n",
       "    .dataframe thead th {\n",
       "        text-align: right;\n",
       "    }\n",
       "</style>\n",
       "<table border=\"1\" class=\"dataframe\">\n",
       "  <thead>\n",
       "    <tr style=\"text-align: right;\">\n",
       "      <th></th>\n",
       "      <th>Datum</th>\n",
       "      <th>Št dogodkov</th>\n",
       "      <th>Št bitk ali vojen</th>\n",
       "      <th>Št rojstev</th>\n",
       "      <th>Št smrti</th>\n",
       "    </tr>\n",
       "  </thead>\n",
       "  <tbody>\n",
       "    <tr>\n",
       "      <th>59</th>\n",
       "      <td>29.Februar</td>\n",
       "      <td>39</td>\n",
       "      <td>6</td>\n",
       "      <td>127</td>\n",
       "      <td>64</td>\n",
       "    </tr>\n",
       "  </tbody>\n",
       "</table>\n",
       "</div>"
      ],
      "text/plain": [
       "         Datum  Št dogodkov  Št bitk ali vojen  Št rojstev  Št smrti\n",
       "59  29.Februar           39                  6         127        64"
      ]
     },
     "execution_count": 5,
     "metadata": {},
     "output_type": "execute_result"
    }
   ],
   "source": [
    "filter = ST_PODATKOV[\"Datum\"] == \"29.Februar\"\n",
    "ST_PODATKOV[filter]"
   ]
  },
  {
   "cell_type": "markdown",
   "metadata": {},
   "source": [
    "29. Februar nima najmanjšega števila smrti, rojstev ali dogodkov (npr. 28. Februar), števila vseh pa so vseeno precej nizko po lestvici. Zato lahko sklepamo da ima kot najredkejši dan v letu nekaj manj podatkov, a to ni edino merilo."
   ]
  },
  {
   "cell_type": "markdown",
   "metadata": {},
   "source": [
    "### Ali obstaja kakšen trend za smrti ali rojstva skozi leto?"
   ]
  },
  {
   "cell_type": "code",
   "execution_count": 26,
   "metadata": {},
   "outputs": [
    {
     "data": {
      "image/png": "[encoded data removed]",
      "text/plain": [
       "<Figure size 640x480 with 1 Axes>"
      ]
     },
     "metadata": {},
     "output_type": "display_data"
    }
   ],
   "source": [
    "zbrani_podatki = pd.DataFrame({\n",
    "   'smrti': ST_PODATKOV[\"Št smrti\"],\n",
    "   'rojstva': ST_PODATKOV[\"Št rojstev\"],\n",
    "   'dogodki': ST_PODATKOV[\"Št dogodkov\"],\n",
    "   })\n",
    "lines = zbrani_podatki.plot.line(xlabel=\"Indeks dneva\", ylabel=\"Število\")"
   ]
  },
  {
   "cell_type": "markdown",
   "metadata": {},
   "source": [
    "Pri rojstvu in smrti lahko opazimo manjši padec v začetku leta, ki pa se ne pojavi pri splošnih dogodkih, zato lahko sklepamo, da do tega ni prišlo samo zaradi pomanjkanja podatkov. prav tako lahko opazimo da se število rojstev poveča v drugi polovici leta."
   ]
  },
  {
   "cell_type": "markdown",
   "metadata": {},
   "source": [
    "## Kako širok je razpon podatkov?"
   ]
  },
  {
   "cell_type": "code",
   "execution_count": 7,
   "metadata": {},
   "outputs": [
    {
     "data": {
      "text/plain": [
       "'od -711.0 do 2021.0'"
      ]
     },
     "execution_count": 7,
     "metadata": {},
     "output_type": "execute_result"
    }
   ],
   "source": [
    "razpon_rojstva = f\"od {OSEBE[\"Rojstvo\"].min()} do {OSEBE[\"Rojstvo\"].max()}\"\n",
    "razpon_rojstva"
   ]
  },
  {
   "cell_type": "code",
   "execution_count": 8,
   "metadata": {},
   "outputs": [
    {
     "data": {
      "text/plain": [
       "'od -1203.0 do 2024.0'"
      ]
     },
     "execution_count": 8,
     "metadata": {},
     "output_type": "execute_result"
    }
   ],
   "source": [
    "razpon_smrti = f\"od {OSEBE[\"Smrt\"].min()} do {OSEBE[\"Smrt\"].max()}\"\n",
    "razpon_smrti"
   ]
  },
  {
   "cell_type": "markdown",
   "metadata": {},
   "source": [
    "V Wikipediji je med rojstvi na specifičen dan najzgodnjejše 711 let pred našim štetjem, najkasnejše pa 3 leta nazaj.\n",
    "Pri zabeleženi smrti pa to trenutno znaša od 1203 let pred našim štetjem, pa vse do letošnjega leta."
   ]
  },
  {
   "cell_type": "markdown",
   "metadata": {},
   "source": [
    "### Je naša informiranost skozi leta naraščala?"
   ]
  },
  {
   "cell_type": "code",
   "execution_count": 30,
   "metadata": {},
   "outputs": [
    {
     "data": {
      "text/plain": [
       "<Axes: >"
      ]
     },
     "execution_count": 30,
     "metadata": {},
     "output_type": "execute_result"
    },
    {
     "data": {
      "image/png": "[encoded data removed]",
      "text/plain": [
       "<Figure size 640x480 with 1 Axes>"
      ]
     },
     "metadata": {},
     "output_type": "display_data"
    }
   ],
   "source": [
    "OSEBE[\"Rojstvo\"].hist(log)\n",
    "OSEBE[\"Smrt\"].hist()"
   ]
  },
  {
   "cell_type": "markdown",
   "metadata": {},
   "source": [
    "Tako pri rojstvu, kot smrti lahko opazimo, da število zabeleženih podatkov hitro narašča."
   ]
  },
  {
   "cell_type": "code",
   "execution_count": 10,
   "metadata": {},
   "outputs": [
    {
     "data": {
      "image/png": "[encoded data removed]",
      "text/plain": [
       "<Figure size 640x480 with 1 Axes>"
      ]
     },
     "metadata": {},
     "output_type": "display_data"
    }
   ],
   "source": [
    "import pandas as pd\n",
    "from grafi import komet_graf_za_informiranost\n",
    "\n",
    "filter = OSEBE[\"Življenjska doba\"] != 404\n",
    "podana_zivljenjska_doba = OSEBE[filter]\n",
    "\n",
    "x_os = pd.to_numeric(podana_zivljenjska_doba[f\"Rojstvo\"], downcast='signed')\n",
    "y_os = pd.to_numeric(podana_zivljenjska_doba[f\"Smrt\"], downcast='signed')\n",
    "\n",
    "komet_graf_za_informiranost(x_os, y_os)"
   ]
  },
  {
   "cell_type": "markdown",
   "metadata": {},
   "source": [
    "Velika večina vseh rojstev in smrti je v okolici 2. tisočletja"
   ]
  },
  {
   "cell_type": "markdown",
   "metadata": {},
   "source": [
    "### Ali je podaljšana življenjska doba očitna? "
   ]
  },
  {
   "cell_type": "markdown",
   "metadata": {},
   "source": [
    "Povprečna življenska doba zabeleženih oseb rojenih do (vključno z) letom 1800:"
   ]
  },
  {
   "cell_type": "code",
   "execution_count": 11,
   "metadata": {},
   "outputs": [
    {
     "data": {
      "text/plain": [
       "60.07460431082478"
      ]
     },
     "execution_count": 11,
     "metadata": {},
     "output_type": "execute_result"
    }
   ],
   "source": [
    "filter = podana_zivljenjska_doba[\"Rojstvo\"] <= 1800\n",
    "rojstvo_do_1800 = podana_zivljenjska_doba[filter]\n",
    "rojstvo_do_1800[\"Življenjska doba\"].mean()"
   ]
  },
  {
   "cell_type": "markdown",
   "metadata": {},
   "source": [
    "Povprečna življenska doba zabeleženih oseb rojenih po letu 1800:"
   ]
  },
  {
   "cell_type": "code",
   "execution_count": 12,
   "metadata": {},
   "outputs": [
    {
     "data": {
      "text/plain": [
       "72.02274071389053"
      ]
     },
     "execution_count": 12,
     "metadata": {},
     "output_type": "execute_result"
    }
   ],
   "source": [
    "filter = podana_zivljenjska_doba[\"Rojstvo\"] > 1800\n",
    "rojstvo_po_1800 = podana_zivljenjska_doba[filter]\n",
    "rojstvo_po_1800[\"Življenjska doba\"].mean()"
   ]
  },
  {
   "cell_type": "markdown",
   "metadata": {},
   "source": [
    "Da, življenjska doba, po 18. stoletju je očitno daljša kot Življenska doba do 19. stoletja."
   ]
  },
  {
   "cell_type": "markdown",
   "metadata": {},
   "source": [
    "### Kako je življenjska doba porazdeljena?"
   ]
  },
  {
   "cell_type": "code",
   "execution_count": 13,
   "metadata": {},
   "outputs": [
    {
     "data": {
      "text/plain": [
       "<Axes: xlabel='Življenjska doba', ylabel='Število oseb'>"
      ]
     },
     "execution_count": 13,
     "metadata": {},
     "output_type": "execute_result"
    },
    {
     "data": {
      "image/png": "[encoded data removed]",
      "text/plain": [
       "<Figure size 640x480 with 1 Axes>"
      ]
     },
     "metadata": {},
     "output_type": "display_data"
    }
   ],
   "source": [
    "zivljenjska_d = podana_zivljenjska_doba.groupby(by=\"Življenjska doba\").size()\n",
    "zivljenjska_d.plot.bar(ylabel=\"Število oseb\")"
   ]
  },
  {
   "cell_type": "code",
   "execution_count": 35,
   "metadata": {},
   "outputs": [
    {
     "data": {
      "text/plain": [
       "524.1129032258065"
      ]
     },
     "execution_count": 35,
     "metadata": {},
     "output_type": "execute_result"
    }
   ],
   "source": [
    "zivljenjska_d.mean()"
   ]
  },
  {
   "cell_type": "markdown",
   "metadata": {},
   "source": [
    "### Kako so podatki porazdeljeni?"
   ]
  },
  {
   "cell_type": "code",
   "execution_count": 34,
   "metadata": {},
   "outputs": [
    {
     "data": {
      "text/plain": [
       "<Axes: >"
      ]
     },
     "execution_count": 34,
     "metadata": {},
     "output_type": "execute_result"
    },
    {
     "data": {
      "image/png": "[encoded data removed]",
      "text/plain": [
       "<Figure size 500x500 with 1 Axes>"
      ]
     },
     "metadata": {},
     "output_type": "display_data"
    }
   ],
   "source": [
    "ST_PODATKOV.drop(columns=[\"Datum\"]).sum().plot.pie(y=\"delež podatkov\", figsize=(5, 5), autopct='%1.1f%%')"
   ]
  },
  {
   "cell_type": "markdown",
   "metadata": {},
   "source": [
    "V procentih predstavljeni deleži podatkov. \n",
    "Število bitk ali vojen je 2.5%"
   ]
  },
  {
   "cell_type": "markdown",
   "metadata": {},
   "source": [
    "## Koliko bitke vplivajo na ostale podatke?"
   ]
  },
  {
   "cell_type": "markdown",
   "metadata": {},
   "source": [
    "Tabela dni, urejenih po naraščujočem številu bitk:"
   ]
  },
  {
   "cell_type": "code",
   "execution_count": 16,
   "metadata": {},
   "outputs": [
    {
     "data": {
      "text/html": [
       "<div>\n",
       "<style scoped>\n",
       "    .dataframe tbody tr th:only-of-type {\n",
       "        vertical-align: middle;\n",
       "    }\n",
       "\n",
       "    .dataframe tbody tr th {\n",
       "        vertical-align: top;\n",
       "    }\n",
       "\n",
       "    .dataframe thead th {\n",
       "        text-align: right;\n",
       "    }\n",
       "</style>\n",
       "<table border=\"1\" class=\"dataframe\">\n",
       "  <thead>\n",
       "    <tr style=\"text-align: right;\">\n",
       "      <th></th>\n",
       "      <th>Datum</th>\n",
       "      <th>Št dogodkov</th>\n",
       "      <th>Št bitk ali vojen</th>\n",
       "    </tr>\n",
       "  </thead>\n",
       "  <tbody>\n",
       "    <tr>\n",
       "      <th>58</th>\n",
       "      <td>28.Februar</td>\n",
       "      <td>26</td>\n",
       "      <td>0</td>\n",
       "    </tr>\n",
       "    <tr>\n",
       "      <th>286</th>\n",
       "      <td>13.Oktober</td>\n",
       "      <td>40</td>\n",
       "      <td>1</td>\n",
       "    </tr>\n",
       "    <tr>\n",
       "      <th>55</th>\n",
       "      <td>25.Februar</td>\n",
       "      <td>30</td>\n",
       "      <td>2</td>\n",
       "    </tr>\n",
       "    <tr>\n",
       "      <th>13</th>\n",
       "      <td>14.Januar</td>\n",
       "      <td>30</td>\n",
       "      <td>2</td>\n",
       "    </tr>\n",
       "    <tr>\n",
       "      <th>131</th>\n",
       "      <td>11.Maj</td>\n",
       "      <td>34</td>\n",
       "      <td>3</td>\n",
       "    </tr>\n",
       "    <tr>\n",
       "      <th>...</th>\n",
       "      <td>...</td>\n",
       "      <td>...</td>\n",
       "      <td>...</td>\n",
       "    </tr>\n",
       "    <tr>\n",
       "      <th>260</th>\n",
       "      <td>17.September</td>\n",
       "      <td>66</td>\n",
       "      <td>20</td>\n",
       "    </tr>\n",
       "    <tr>\n",
       "      <th>296</th>\n",
       "      <td>23.Oktober</td>\n",
       "      <td>58</td>\n",
       "      <td>20</td>\n",
       "    </tr>\n",
       "    <tr>\n",
       "      <th>313</th>\n",
       "      <td>9.November</td>\n",
       "      <td>70</td>\n",
       "      <td>20</td>\n",
       "    </tr>\n",
       "    <tr>\n",
       "      <th>235</th>\n",
       "      <td>23.August</td>\n",
       "      <td>68</td>\n",
       "      <td>23</td>\n",
       "    </tr>\n",
       "    <tr>\n",
       "      <th>217</th>\n",
       "      <td>5.August</td>\n",
       "      <td>76</td>\n",
       "      <td>25</td>\n",
       "    </tr>\n",
       "  </tbody>\n",
       "</table>\n",
       "<p>366 rows × 3 columns</p>\n",
       "</div>"
      ],
      "text/plain": [
       "            Datum  Št dogodkov  Št bitk ali vojen\n",
       "58     28.Februar           26                  0\n",
       "286    13.Oktober           40                  1\n",
       "55     25.Februar           30                  2\n",
       "13      14.Januar           30                  2\n",
       "131        11.Maj           34                  3\n",
       "..            ...          ...                ...\n",
       "260  17.September           66                 20\n",
       "296    23.Oktober           58                 20\n",
       "313    9.November           70                 20\n",
       "235     23.August           68                 23\n",
       "217      5.August           76                 25\n",
       "\n",
       "[366 rows x 3 columns]"
      ]
     },
     "execution_count": 16,
     "metadata": {},
     "output_type": "execute_result"
    }
   ],
   "source": [
    "ST_PODATKOV.sort_values(by =\"Št bitk ali vojen\").drop(columns=[\"Št rojstev\", \"Št smrti\"])"
   ]
  },
  {
   "cell_type": "markdown",
   "metadata": {},
   "source": [
    "August je očitno posebaj priljubljen mesec za bitke ali vojne. Največ jih je omenjenih 5. Avgusta, in sicer:"
   ]
  },
  {
   "cell_type": "code",
   "execution_count": 17,
   "metadata": {},
   "outputs": [
    {
     "data": {
      "text/html": [
       "<div>\n",
       "<style scoped>\n",
       "    .dataframe tbody tr th:only-of-type {\n",
       "        vertical-align: middle;\n",
       "    }\n",
       "\n",
       "    .dataframe tbody tr th {\n",
       "        vertical-align: top;\n",
       "    }\n",
       "\n",
       "    .dataframe thead th {\n",
       "        text-align: right;\n",
       "    }\n",
       "</style>\n",
       "<table border=\"1\" class=\"dataframe\">\n",
       "  <thead>\n",
       "    <tr style=\"text-align: right;\">\n",
       "      <th></th>\n",
       "      <th>Ime bitke ali vojne</th>\n",
       "      <th>Datum</th>\n",
       "    </tr>\n",
       "  </thead>\n",
       "  <tbody>\n",
       "    <tr>\n",
       "      <th>1971</th>\n",
       "      <td>Battle of Maserfield</td>\n",
       "      <td>5.August</td>\n",
       "    </tr>\n",
       "    <tr>\n",
       "      <th>1972</th>\n",
       "      <td>Edward the Elder</td>\n",
       "      <td>5.August</td>\n",
       "    </tr>\n",
       "    <tr>\n",
       "      <th>1973</th>\n",
       "      <td>Battle of Alhandic</td>\n",
       "      <td>5.August</td>\n",
       "    </tr>\n",
       "    <tr>\n",
       "      <th>1974</th>\n",
       "      <td>Byzantine–Norman wars</td>\n",
       "      <td>5.August</td>\n",
       "    </tr>\n",
       "    <tr>\n",
       "      <th>1975</th>\n",
       "      <td>First Scottish War of Independence</td>\n",
       "      <td>5.August</td>\n",
       "    </tr>\n",
       "    <tr>\n",
       "      <th>...</th>\n",
       "      <td>...</td>\n",
       "      <td>...</td>\n",
       "    </tr>\n",
       "    <tr>\n",
       "      <th>1991</th>\n",
       "      <td>Cold War</td>\n",
       "      <td>5.August</td>\n",
       "    </tr>\n",
       "    <tr>\n",
       "      <th>1992</th>\n",
       "      <td>Vietnam War</td>\n",
       "      <td>5.August</td>\n",
       "    </tr>\n",
       "    <tr>\n",
       "      <th>1993</th>\n",
       "      <td>Indo-Pakistani War of 1965</td>\n",
       "      <td>5.August</td>\n",
       "    </tr>\n",
       "    <tr>\n",
       "      <th>1994</th>\n",
       "      <td>Vietnam War</td>\n",
       "      <td>5.August</td>\n",
       "    </tr>\n",
       "    <tr>\n",
       "      <th>1995</th>\n",
       "      <td>Yugoslav Wars</td>\n",
       "      <td>5.August</td>\n",
       "    </tr>\n",
       "  </tbody>\n",
       "</table>\n",
       "<p>25 rows × 2 columns</p>\n",
       "</div>"
      ],
      "text/plain": [
       "                     Ime bitke ali vojne     Datum\n",
       "1971                Battle of Maserfield  5.August\n",
       "1972                    Edward the Elder  5.August\n",
       "1973                  Battle of Alhandic  5.August\n",
       "1974               Byzantine–Norman wars  5.August\n",
       "1975  First Scottish War of Independence  5.August\n",
       "...                                  ...       ...\n",
       "1991                            Cold War  5.August\n",
       "1992                         Vietnam War  5.August\n",
       "1993          Indo-Pakistani War of 1965  5.August\n",
       "1994                         Vietnam War  5.August\n",
       "1995                       Yugoslav Wars  5.August\n",
       "\n",
       "[25 rows x 2 columns]"
      ]
     },
     "execution_count": 17,
     "metadata": {},
     "output_type": "execute_result"
    }
   ],
   "source": [
    "filter = BITKE[\"Datum\"] == \"5.August\"\n",
    "BITKE[filter]"
   ]
  },
  {
   "cell_type": "markdown",
   "metadata": {},
   "source": [
    "### Ali bo zaradi bitk očiten narast smrti?"
   ]
  },
  {
   "cell_type": "code",
   "execution_count": 25,
   "metadata": {},
   "outputs": [
    {
     "data": {
      "image/png": "[encoded data removed]",
      "text/plain": [
       "<Figure size 640x480 with 1 Axes>"
      ]
     },
     "metadata": {},
     "output_type": "display_data"
    }
   ],
   "source": [
    "zbrani_podatki = pd.DataFrame({\n",
    "   'smrti': ST_PODATKOV[\"Št smrti\"],\n",
    "   'bitke': ST_PODATKOV[\"Št bitk ali vojen\"],\n",
    "   'dogodki': ST_PODATKOV[\"Št dogodkov\"]})\n",
    "lines = zbrani_podatki.plot.line(xlabel=\"Indeks dneva\", ylabel=\"Število\")"
   ]
  },
  {
   "cell_type": "code",
   "execution_count": 24,
   "metadata": {},
   "outputs": [
    {
     "data": {
      "text/plain": [
       "0         1.Januar\n",
       "1         2.Januar\n",
       "2         3.Januar\n",
       "3         4.Januar\n",
       "4         5.Januar\n",
       "          ...     \n",
       "361    27.December\n",
       "362    28.December\n",
       "363    29.December\n",
       "364    30.December\n",
       "365    31.December\n",
       "Name: Datum, Length: 366, dtype: object"
      ]
     },
     "execution_count": 24,
     "metadata": {},
     "output_type": "execute_result"
    }
   ],
   "source": [
    "ST_PODATKOV[\"Datum\"]"
   ]
  },
  {
   "cell_type": "markdown",
   "metadata": {},
   "source": [
    "Lahko opazimo nekaj ujemanj, med naraščanjem ali padanjem obeh grafov, ki pa se pojavijo tudi pri dogodkih.\n",
    "Zato lahko sklepamo, da so ujemanja posledica pomanjkanja informacij, kot pa vpliva bitk na smrt."
   ]
  },
  {
   "cell_type": "markdown",
   "metadata": {},
   "source": [
    "## Zaključek\n",
    "\n",
    "Podatkov je veliko, vendar niso vsi pravilni... še posebej na Wikipediji.\n"
   ]
  },
  {
   "cell_type": "code",
   "execution_count": 19,
   "metadata": {},
   "outputs": [
    {
     "data": {
      "text/plain": [
       "'od -18 do 129'"
      ]
     },
     "execution_count": 19,
     "metadata": {},
     "output_type": "execute_result"
    }
   ],
   "source": [
    "razpon_dobe = f\"od {podana_zivljenjska_doba[\"Življenjska doba\"].min()} do {podana_zivljenjska_doba[\"Življenjska doba\"].max()}\"\n",
    "razpon_dobe"
   ]
  },
  {
   "cell_type": "code",
   "execution_count": 20,
   "metadata": {},
   "outputs": [
    {
     "data": {
      "text/html": [
       "<div>\n",
       "<style scoped>\n",
       "    .dataframe tbody tr th:only-of-type {\n",
       "        vertical-align: middle;\n",
       "    }\n",
       "\n",
       "    .dataframe tbody tr th {\n",
       "        vertical-align: top;\n",
       "    }\n",
       "\n",
       "    .dataframe thead th {\n",
       "        text-align: right;\n",
       "    }\n",
       "</style>\n",
       "<table border=\"1\" class=\"dataframe\">\n",
       "  <thead>\n",
       "    <tr style=\"text-align: right;\">\n",
       "      <th></th>\n",
       "      <th>Datum</th>\n",
       "      <th>Ime</th>\n",
       "      <th>Naziv</th>\n",
       "      <th>Rojstvo</th>\n",
       "      <th>Smrt</th>\n",
       "      <th>Življenjska doba</th>\n",
       "    </tr>\n",
       "  </thead>\n",
       "  <tbody>\n",
       "    <tr>\n",
       "      <th>103085</th>\n",
       "      <td>17.November</td>\n",
       "      <td>Gazi Evrenos</td>\n",
       "      <td>Ottoman general</td>\n",
       "      <td>1288.0</td>\n",
       "      <td>1417.0</td>\n",
       "      <td>129</td>\n",
       "    </tr>\n",
       "    <tr>\n",
       "      <th>31414</th>\n",
       "      <td>9.April</td>\n",
       "      <td>Jimmu</td>\n",
       "      <td>emperor of Japan</td>\n",
       "      <td>-711.0</td>\n",
       "      <td>-585.0</td>\n",
       "      <td>126</td>\n",
       "    </tr>\n",
       "    <tr>\n",
       "      <th>15894</th>\n",
       "      <td>21.Februar</td>\n",
       "      <td>Jeanne Calment</td>\n",
       "      <td>French super-centenarian, oldest verified pers...</td>\n",
       "      <td>1875.0</td>\n",
       "      <td>1997.0</td>\n",
       "      <td>122</td>\n",
       "    </tr>\n",
       "    <tr>\n",
       "      <th>66543</th>\n",
       "      <td>4.August</td>\n",
       "      <td>Jeanne Calment</td>\n",
       "      <td>French super-centenarian; holds records for th...</td>\n",
       "      <td>1875.0</td>\n",
       "      <td>1997.0</td>\n",
       "      <td>122</td>\n",
       "    </tr>\n",
       "    <tr>\n",
       "      <th>84144</th>\n",
       "      <td>24.September</td>\n",
       "      <td>Sarah Knauss</td>\n",
       "      <td>American super-centenarian, oldest verified Am...</td>\n",
       "      <td>1880.0</td>\n",
       "      <td>1999.0</td>\n",
       "      <td>119</td>\n",
       "    </tr>\n",
       "    <tr>\n",
       "      <th>...</th>\n",
       "      <td>...</td>\n",
       "      <td>...</td>\n",
       "      <td>...</td>\n",
       "      <td>...</td>\n",
       "      <td>...</td>\n",
       "      <td>...</td>\n",
       "    </tr>\n",
       "    <tr>\n",
       "      <th>104121</th>\n",
       "      <td>20.November</td>\n",
       "      <td>John I</td>\n",
       "      <td>king of France and Navarra</td>\n",
       "      <td>1316.0</td>\n",
       "      <td>1316.0</td>\n",
       "      <td>0</td>\n",
       "    </tr>\n",
       "    <tr>\n",
       "      <th>73294</th>\n",
       "      <td>25.August</td>\n",
       "      <td>Stephen Badlam</td>\n",
       "      <td>American artisan and military officer</td>\n",
       "      <td>1815.0</td>\n",
       "      <td>1815.0</td>\n",
       "      <td>0</td>\n",
       "    </tr>\n",
       "    <tr>\n",
       "      <th>60709</th>\n",
       "      <td>17.Julij</td>\n",
       "      <td>Sverker II</td>\n",
       "      <td>king of Sweden</td>\n",
       "      <td>1210.0</td>\n",
       "      <td>1210.0</td>\n",
       "      <td>0</td>\n",
       "    </tr>\n",
       "    <tr>\n",
       "      <th>16060</th>\n",
       "      <td>22.Februar</td>\n",
       "      <td>Henry</td>\n",
       "      <td>duke of Cornwall</td>\n",
       "      <td>1511.0</td>\n",
       "      <td>1511.0</td>\n",
       "      <td>0</td>\n",
       "    </tr>\n",
       "    <tr>\n",
       "      <th>44191</th>\n",
       "      <td>24.Maj</td>\n",
       "      <td>Rolf Skår</td>\n",
       "      <td>Norwegian engineer</td>\n",
       "      <td>1941.0</td>\n",
       "      <td>1923.0</td>\n",
       "      <td>-18</td>\n",
       "    </tr>\n",
       "  </tbody>\n",
       "</table>\n",
       "<p>64990 rows × 6 columns</p>\n",
       "</div>"
      ],
      "text/plain": [
       "               Datum             Ime  \\\n",
       "103085   17.November    Gazi Evrenos   \n",
       "31414        9.April           Jimmu   \n",
       "15894     21.Februar  Jeanne Calment   \n",
       "66543       4.August  Jeanne Calment   \n",
       "84144   24.September    Sarah Knauss   \n",
       "...              ...             ...   \n",
       "104121   20.November          John I   \n",
       "73294      25.August  Stephen Badlam   \n",
       "60709       17.Julij      Sverker II   \n",
       "16060     22.Februar           Henry   \n",
       "44191         24.Maj       Rolf Skår   \n",
       "\n",
       "                                                    Naziv  Rojstvo    Smrt  \\\n",
       "103085                                    Ottoman general   1288.0  1417.0   \n",
       "31414                                    emperor of Japan   -711.0  -585.0   \n",
       "15894   French super-centenarian, oldest verified pers...   1875.0  1997.0   \n",
       "66543   French super-centenarian; holds records for th...   1875.0  1997.0   \n",
       "84144   American super-centenarian, oldest verified Am...   1880.0  1999.0   \n",
       "...                                                   ...      ...     ...   \n",
       "104121                         king of France and Navarra   1316.0  1316.0   \n",
       "73294               American artisan and military officer   1815.0  1815.0   \n",
       "60709                                      king of Sweden   1210.0  1210.0   \n",
       "16060                                    duke of Cornwall   1511.0  1511.0   \n",
       "44191                                  Norwegian engineer   1941.0  1923.0   \n",
       "\n",
       "        Življenjska doba  \n",
       "103085               129  \n",
       "31414                126  \n",
       "15894                122  \n",
       "66543                122  \n",
       "84144                119  \n",
       "...                  ...  \n",
       "104121                 0  \n",
       "73294                  0  \n",
       "60709                  0  \n",
       "16060                  0  \n",
       "44191                -18  \n",
       "\n",
       "[64990 rows x 6 columns]"
      ]
     },
     "execution_count": 20,
     "metadata": {},
     "output_type": "execute_result"
    }
   ],
   "source": [
    "podana_zivljenjska_doba.sort_values(by =\"Življenjska doba\", ascending=False)"
   ]
  },
  {
   "cell_type": "markdown",
   "metadata": {},
   "source": [
    "Jeanne Calment trenutno drži rekord za najdlje živečo osebo, a je po pobranih podatkih šele na 3. mestu.\n",
    "Medtem ko je norveški inženir Rolf Skår živel kar -18 let."
   ]
  }
 ],
 "metadata": {
  "kernelspec": {
   "display_name": "Python 3",
   "language": "python",
   "name": "python3"
  },
  "language_info": {
   "codemirror_mode": {
    "name": "ipython",
    "version": 3
   },
   "file_extension": ".py",
   "mimetype": "text/x-python",
   "name": "python",
   "nbconvert_exporter": "python",
   "pygments_lexer": "ipython3",
   "version": "3.12.2"
  }
 },
 "nbformat": 4,
 "nbformat_minor": 2
}
